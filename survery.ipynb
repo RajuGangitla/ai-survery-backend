{
 "cells": [
  {
   "cell_type": "code",
   "execution_count": 110,
   "metadata": {},
   "outputs": [],
   "source": [
    "from langchain_core.messages import SystemMessage, HumanMessage\n",
    "from langchain_ollama import ChatOllama\n"
   ]
  },
  {
   "cell_type": "code",
   "execution_count": 111,
   "metadata": {},
   "outputs": [],
   "source": [
    "llm = ChatOllama(model=\"llama3.1:latest\", temperature=0)\n"
   ]
  },
  {
   "cell_type": "code",
   "execution_count": 112,
   "metadata": {},
   "outputs": [],
   "source": [
    "from typing_extensions import TypedDict\n",
    "\n",
    "class OverallState(TypedDict):\n",
    "    query:str\n",
    "    industry:str\n",
    "    role:str\n",
    "    channels:str"
   ]
  },
  {
   "cell_type": "code",
   "execution_count": 113,
   "metadata": {},
   "outputs": [],
   "source": [
    "from pydantic import BaseModel, Field\n",
    "from typing import List, Literal\n",
    "\n",
    "class survey_type(BaseModel):\n",
    "    industry: Literal[\"saas\", \"eCommerce\", \"other\"] = Field(..., description=\"The industry the survey is for.\")\n",
    "    role: Literal[\"productManager\", \"marketing\", \"sales\", \"customerSuccess\", \"peopleManager\"] = Field(..., description=\"The role of the person responsible for creating the survey.\")\n",
    "    channels: List[Literal[\"app\", \"website\", \"link\"]] = Field(..., description=\"Where the survey will be distributed (can be multiple channels).\")\n",
    "\n",
    "find_survey_type_prompt = \"\"\"\n",
    "Analyze the given topic and determine the most relevant survey parameters.\n",
    "Topic: {topic}\n",
    "\n",
    "Return a JSON object with:\n",
    "- \"industry\": Choose from [\"saas\", \"eCommerce\", \"other\"]\n",
    "- \"role\": Choose from [\"productManager\", \"marketing\", \"sales\", \"customerSuccess\", \"peopleManager\"]\n",
    "- \"channels\": A list of [\"app\", \"website\", \"link\"]\n",
    "\"\"\"\n",
    "\n",
    "\n",
    "def find_survey_type(state:OverallState):\n",
    "    \"\"\"find the survey type\"\"\"\n",
    "    prompt  = find_survey_type_prompt.format(topic=state[\"query\"])\n",
    "    response = llm.with_structured_output(survey_type).invoke(prompt)\n",
    "\n",
    "    return {\"industry\":response.industry,\"role\":response.role,\"channels\":response.channels, }\n"
   ]
  },
  {
   "cell_type": "code",
   "execution_count": 114,
   "metadata": {},
   "outputs": [
    {
     "data": {
      "image/png": "[encoded data removed]",
      "text/plain": [
       "<IPython.core.display.Image object>"
      ]
     },
     "metadata": {},
     "output_type": "display_data"
    }
   ],
   "source": [
    "from langgraph.graph import StateGraph, START, END\n",
    "from IPython.display import Image, display\n",
    "graph =  StateGraph(OverallState)\n",
    "\n",
    "\n",
    "graph.add_node(\"find_survey_type\", find_survey_type)\n",
    "\n",
    "graph.add_edge(START, \"find_survey_type\")\n",
    "graph.add_edge(\"find_survey_type\", END)\n",
    "\n",
    "graph = graph.compile()\n",
    "\n",
    "\n",
    "display(Image(graph.get_graph(xray=True).draw_mermaid_png()))"
   ]
  },
  {
   "cell_type": "code",
   "execution_count": 115,
   "metadata": {},
   "outputs": [
    {
     "data": {
      "text/plain": [
       "{'query': 'I want a survey to measure trial-to-paid conversion rates.',\n",
       " 'industry': 'saas',\n",
       " 'role': 'customerSuccess',\n",
       " 'channels': ['app', 'website']}"
      ]
     },
     "execution_count": 115,
     "metadata": {},
     "output_type": "execute_result"
    }
   ],
   "source": [
    "result  = graph.invoke({\"query\":\"I want a survey to measure trial-to-paid conversion rates.\"})\n",
    "result"
   ]
  }
 ],
 "metadata": {
  "kernelspec": {
   "display_name": "venv",
   "language": "python",
   "name": "python3"
  },
  "language_info": {
   "codemirror_mode": {
    "name": "ipython",
    "version": 3
   },
   "file_extension": ".py",
   "mimetype": "text/x-python",
   "name": "python",
   "nbconvert_exporter": "python",
   "pygments_lexer": "ipython3",
   "version": "3.12.7"
  }
 },
 "nbformat": 4,
 "nbformat_minor": 2
}
