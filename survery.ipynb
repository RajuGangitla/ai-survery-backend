{
 "cells": [
  {
   "cell_type": "code",
   "execution_count": 156,
   "metadata": {},
   "outputs": [],
   "source": [
    "from langchain_core.messages import SystemMessage, HumanMessage\n",
    "from langchain_ollama import ChatOllama\n"
   ]
  },
  {
   "cell_type": "code",
   "execution_count": 157,
   "metadata": {},
   "outputs": [],
   "source": [
    "import json\n",
    "import os\n",
    "\n",
    "file_path = os.path.join( \"surveys.json\")  # Adjust path if needed\n"
   ]
  },
  {
   "cell_type": "code",
   "execution_count": 158,
   "metadata": {},
   "outputs": [],
   "source": [
    "llm = ChatOllama(model=\"llama3.1:latest\", temperature=0)\n"
   ]
  },
  {
   "cell_type": "code",
   "execution_count": 159,
   "metadata": {},
   "outputs": [],
   "source": [
    "from typing_extensions import TypedDict\n",
    "\n",
    "class OverallState(TypedDict):\n",
    "    query:str\n",
    "    industry:str\n",
    "    role:str\n",
    "    channels:str\n",
    "    name:str\n",
    "    description:str"
   ]
  },
  {
   "cell_type": "code",
   "execution_count": 160,
   "metadata": {},
   "outputs": [],
   "source": [
    "from pydantic import BaseModel, Field\n",
    "from typing import List, Literal\n",
    "\n",
    "class survey_metadata(BaseModel):\n",
    "    industry: Literal[\"saas\", \"eCommerce\", \"other\"] = Field(..., description=\"The industry the survey is for.\")\n",
    "    role: Literal[\"productManager\", \"marketing\", \"sales\", \"customerSuccess\", \"peopleManager\"] = Field(..., description=\"The role of the person responsible for creating the survey.\")\n",
    "    channels: List[Literal[\"app\", \"website\", \"link\"]] = Field(..., description=\"Where the survey will be distributed (can be multiple channels).\")\n",
    "\n",
    "find_survey_metadata_prompt = \"\"\"\n",
    "Analyze the given topic and determine the most relevant survey parameters.\n",
    "Topic: {topic}\n",
    "\n",
    "Return a JSON object with:\n",
    "- \"industry\": Choose from [\"saas\", \"eCommerce\", \"other\"]\n",
    "- \"role\": Choose from [\"productManager\", \"marketing\", \"sales\", \"customerSuccess\", \"peopleManager\"]\n",
    "- \"channels\": A list of [\"app\", \"website\", \"link\"]\n",
    "\"\"\"\n",
    "\n",
    "\n",
    "def find_survey_metadata(state:OverallState):\n",
    "    \"\"\"find the survey metadata\"\"\"\n",
    "    prompt  = find_survey_metadata_prompt.format(topic=state[\"query\"])\n",
    "    response = llm.with_structured_output(survey_metadata).invoke(prompt)\n",
    "\n",
    "    return {\"industry\":response.industry,\"role\":response.role,\"channels\":response.channels, }\n"
   ]
  },
  {
   "cell_type": "code",
   "execution_count": null,
   "metadata": {},
   "outputs": [],
   "source": [
    "class survey_type(BaseModel):\n",
    "    name:str\n",
    "    description:str\n",
    "\n",
    "survey_type_prompt = \"\"\"\n",
    "From the following surveys:  \n",
    "{surveys}  \n",
    "\n",
    "Choose the **one** survey that best matches this topic: **\"{topic}\"**.  \n",
    "Return only the survey name and a short description.  \n",
    "\"\"\"\n",
    "\n",
    "\n",
    "def find_survey_type(state: OverallState):\n",
    "    \"\"\"Find survey type\"\"\"\n",
    "    with open(file_path, \"r\") as f:\n",
    "        surveys = json.load(f)\n",
    "\n",
    "    industry = state[\"industry\"]\n",
    "    channels = state[\"channels\"]\n",
    "    role = state[\"role\"]\n",
    "\n",
    "    matching_surveys = [\n",
    "        survey for survey in surveys\n",
    "        if industry in survey[\"industry\"] and role == survey[\"role\"] and any(c in survey[\"channels\"] for c in channels)\n",
    "    ]\n",
    "\n",
    "    print(matching_surveys, \"matching_surveys\")\n",
    "\n",
    "    # Handle case where no surveys match\n",
    "    if not matching_surveys:\n",
    "        return {\"name\": None, \"description\": \"No matching survey found.\"}\n",
    "\n",
    "    # ✅ Use a separate variable to avoid overwriting\n",
    "    formatted_prompt = survey_type_prompt.format(topic=state[\"query\"], surveys=matching_surveys)\n",
    "\n",
    "    response = llm.with_structured_output(survey_type).invoke(formatted_prompt)\n",
    "\n",
    "    return {\"name\": response.name, \"description\": response.description}\n",
    "    "
   ]
  },
  {
   "cell_type": "code",
   "execution_count": 162,
   "metadata": {},
   "outputs": [
    {
     "data": {
      "image/png": "[encoded data removed]",
      "text/plain": [
       "<IPython.core.display.Image object>"
      ]
     },
     "metadata": {},
     "output_type": "display_data"
    }
   ],
   "source": [
    "from langgraph.graph import StateGraph, START, END\n",
    "from IPython.display import Image, display\n",
    "graph =  StateGraph(OverallState)\n",
    "\n",
    "\n",
    "graph.add_node(\"find_survey_metadata\", find_survey_metadata)\n",
    "graph.add_node(\"find_survey_type\", find_survey_type)\n",
    "\n",
    "graph.add_edge(START, \"find_survey_metadata\")\n",
    "graph.add_edge(\"find_survey_metadata\", \"find_survey_type\")\n",
    "graph.add_edge(\"find_survey_type\", END)\n",
    "\n",
    "graph = graph.compile()\n",
    "\n",
    "\n",
    "display(Image(graph.get_graph(xray=True).draw_mermaid_png()))"
   ]
  },
  {
   "cell_type": "code",
   "execution_count": 163,
   "metadata": {},
   "outputs": [
    {
     "data": {
      "text/plain": [
       "{'query': 'How can we reduce checkout abandonment ? ',\n",
       " 'industry': 'eCommerce',\n",
       " 'role': 'productManager',\n",
       " 'channels': ['app', 'website'],\n",
       " 'name': 'Rate Checkout Experience',\n",
       " 'description': 'Let customers rate the checkout experience to tweak conversion.'}"
      ]
     },
     "execution_count": 163,
     "metadata": {},
     "output_type": "execute_result"
    }
   ],
   "source": [
    "result  = graph.invoke({\"query\":\"How can we reduce checkout abandonment ? \"})\n",
    "result"
   ]
  }
 ],
 "metadata": {
  "kernelspec": {
   "display_name": "venv",
   "language": "python",
   "name": "python3"
  },
  "language_info": {
   "codemirror_mode": {
    "name": "ipython",
    "version": 3
   },
   "file_extension": ".py",
   "mimetype": "text/x-python",
   "name": "python",
   "nbconvert_exporter": "python",
   "pygments_lexer": "ipython3",
   "version": "3.12.7"
  }
 },
 "nbformat": 4,
 "nbformat_minor": 2
}
