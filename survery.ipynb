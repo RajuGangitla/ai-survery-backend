{
 "cells": [
  {
   "cell_type": "code",
   "execution_count": 21,
   "metadata": {},
   "outputs": [],
   "source": [
    "from langchain_core.messages import SystemMessage, HumanMessage\n",
    "from langchain_ollama import ChatOllama\n",
    "from langchain_openai import AzureChatOpenAI\n",
    "from templates import CartAbandonmentSurvey"
   ]
  },
  {
   "cell_type": "code",
   "execution_count": 22,
   "metadata": {},
   "outputs": [],
   "source": [
    "import json\n",
    "import os\n",
    "from dotenv import load_dotenv\n",
    "\n",
    "load_dotenv()\n",
    "\n",
    "os.environ[\"OPEN_AI_KEY\"] = os.getenv(\"OPEN_AI_KEY\")\n",
    "os.environ[\"OPENAI_API_VERSION\"] = os.getenv(\"OPENAI_API_VERSION\")\n",
    "os.environ[\"LANGCHAIN_API_KEY\"] = os.getenv(\"LANGCHAIN_API_KEY\")\n",
    "os.environ[\"LANGCHAIN_PROJECT\"] = os.getenv(\"LANGCHAIN_PROJECT\")\n",
    "os.environ[\"LANGCHAIN_TRACING_V2\"] = \"true\"\n",
    "\n",
    "file_path = os.path.join( \"surveys.json\")  # Adjust path if needed\n"
   ]
  },
  {
   "cell_type": "code",
   "execution_count": 23,
   "metadata": {},
   "outputs": [],
   "source": [
    "llm = ChatOllama(model=\"llama3.1:latest\", temperature=0)\n",
    "# llm = AzureChatOpenAI(model=\"gpt-4o\", api_key=os.getenv(\"OPEN_AI_KEY\"), api_version=os.getenv(\"OPENAI_API_VERSION\"))"
   ]
  },
  {
   "cell_type": "code",
   "execution_count": 24,
   "metadata": {},
   "outputs": [],
   "source": [
    "from typing_extensions import TypedDict, Union\n",
    "\n",
    "class OverallState(TypedDict):\n",
    "    query:str\n",
    "    industry:str\n",
    "    role:str\n",
    "    channels:str\n",
    "    name:str\n",
    "    description:str\n",
    "    survey: Union[CartAbandonmentSurvey, dict, None]"
   ]
  },
  {
   "cell_type": "code",
   "execution_count": 25,
   "metadata": {},
   "outputs": [],
   "source": [
    "from pydantic import BaseModel, Field\n",
    "from typing import List, Literal\n",
    "\n",
    "class survey_metadata(BaseModel):\n",
    "    industry: Literal[\"saas\", \"eCommerce\", \"other\"] = Field(..., description=\"The industry the survey is for.\")\n",
    "    role: Literal[\"productManager\", \"marketing\", \"sales\", \"customerSuccess\", \"peopleManager\"] = Field(..., description=\"The role of the person responsible for creating the survey.\")\n",
    "    channels: List[Literal[\"app\", \"website\", \"link\"]] = Field(..., description=\"Where the survey will be distributed (can be multiple channels).\")\n",
    "\n",
    "find_survey_metadata_prompt = \"\"\"\n",
    "Analyze the given topic and determine the most relevant survey parameters.\n",
    "Topic: {topic}\n",
    "\n",
    "Return a JSON object with:\n",
    "- \"industry\": Choose from [\"saas\", \"eCommerce\", \"other\"]\n",
    "- \"role\": Choose from [\"productManager\", \"marketing\", \"sales\", \"customerSuccess\", \"peopleManager\"]\n",
    "- \"channels\": A list of [\"app\", \"website\", \"link\"]\n",
    "\"\"\"\n",
    "\n",
    "\n",
    "def find_survey_metadata(state:OverallState):\n",
    "    \"\"\"find the survey metadata\"\"\"\n",
    "    prompt  = find_survey_metadata_prompt.format(topic=state[\"query\"])\n",
    "    response = llm.with_structured_output(survey_metadata).invoke(prompt)\n",
    "\n",
    "    return {\"industry\":response.industry,\"role\":response.role,\"channels\":response.channels, }\n"
   ]
  },
  {
   "cell_type": "code",
   "execution_count": 26,
   "metadata": {},
   "outputs": [],
   "source": [
    "class survey_type(BaseModel):\n",
    "    name:str\n",
    "    description:str\n",
    "\n",
    "survey_type_prompt = \"\"\"\n",
    "From the following surveys:  \n",
    "{surveys}  \n",
    "\n",
    "Choose the **one** survey that best matches this topic: **\"{topic}\"**.  \n",
    "Return only the survey name and a short description.  \n",
    "\"\"\"\n",
    "\n",
    "\n",
    "def find_survey_type(state: OverallState):\n",
    "    \"\"\"Find survey type\"\"\"\n",
    "    with open(file_path, \"r\") as f:\n",
    "        surveys = json.load(f)\n",
    "\n",
    "    industry = state[\"industry\"]\n",
    "    channels = state[\"channels\"]\n",
    "    role = state[\"role\"]\n",
    "\n",
    "    matching_surveys = [\n",
    "        survey for survey in surveys\n",
    "        if industry in survey[\"industry\"] and role == survey[\"role\"] and any(c in survey[\"channels\"] for c in channels)\n",
    "    ]\n",
    "\n",
    "    # Handle case where no surveys match\n",
    "    if not matching_surveys:\n",
    "        return {\"name\": None, \"description\": \"No matching survey found.\"}\n",
    "\n",
    "    # ✅ Use a separate variable to avoid overwriting\n",
    "    formatted_prompt = survey_type_prompt.format(topic=state[\"query\"], surveys=matching_surveys)\n",
    "\n",
    "    response = llm.with_structured_output(survey_type).invoke(formatted_prompt)\n",
    "\n",
    "    return {\"name\": response.name, \"description\": response.description}\n",
    "    "
   ]
  },
  {
   "cell_type": "code",
   "execution_count": null,
   "metadata": {},
   "outputs": [],
   "source": [
    "generate_survey_prompt = \"\"\"\n",
    "You are an expert in survey design. Generate a well-structured survey based on the following details:\n",
    "\n",
    "- **Survey Name:** {name}  \n",
    "- **Description:** {description}  \n",
    "- **Target Industry:** {industry}  \n",
    "- **Target Audience Role:** {role}  \n",
    "- **Distribution Channels:** {channels}  \n",
    "\n",
    "Ensure that:\n",
    "1. The survey aligns with the given industry and role.\n",
    "2. The structure follows the appropriate survey model dynamically.\n",
    "3. The output is formatted to match the expected schema.\n",
    "\n",
    "Use the correct structured output model based on the context.\n",
    "\"\"\"\n",
    "\n",
    "\n",
    "def generate_survey(state:OverallState):\n",
    "    \"\"\" generate survey \"\"\"\n",
    "    formatted_prompt = generate_survey_prompt.format(\n",
    "        name=state[\"name\"], \n",
    "        description=state[\"description\"],\n",
    "        industry=state[\"industry\"], \n",
    "        role=state[\"role\"], \n",
    "        channels=state[\"channels\"])\n",
    "    response = llm.with_structured_output(CartAbandonmentSurvey).invoke(formatted_prompt)\n",
    "    print(response, \"response\")\n",
    "    return {\"survey\":response.dict()}"
   ]
  },
  {
   "cell_type": "code",
   "execution_count": 28,
   "metadata": {},
   "outputs": [
    {
     "data": {
      "image/png": "[encoded data removed]",
      "text/plain": [
       "<IPython.core.display.Image object>"
      ]
     },
     "metadata": {},
     "output_type": "display_data"
    }
   ],
   "source": [
    "from langgraph.graph import StateGraph, START, END\n",
    "from IPython.display import Image, display\n",
    "graph =  StateGraph(OverallState)\n",
    "\n",
    "\n",
    "graph.add_node(\"find_survey_metadata\", find_survey_metadata)\n",
    "graph.add_node(\"find_survey_type\", find_survey_type)\n",
    "graph.add_node(\"generate_survey\", generate_survey)\n",
    "\n",
    "graph.add_edge(START, \"find_survey_metadata\")\n",
    "graph.add_edge(\"find_survey_metadata\", \"find_survey_type\")\n",
    "graph.add_edge(\"find_survey_type\", \"generate_survey\")\n",
    "graph.add_edge(\"generate_survey\", END)\n",
    "\n",
    "graph = graph.compile()\n",
    "\n",
    "\n",
    "display(Image(graph.get_graph(xray=True).draw_mermaid_png()))"
   ]
  },
  {
   "cell_type": "code",
   "execution_count": 29,
   "metadata": {},
   "outputs": [
    {
     "name": "stdout",
     "output_type": "stream",
     "text": [
      "name='Rate Checkout Experience' role='productManager' industries=['eCommerce'] channels=['app', 'website'] description='Let customers rate the checkout experience to tweak conversion.' preset=SurveyPreset(name='Checkout Experience Survey', welcomeCard=None, endings=[{'type': 'rating', 'label': 'How would you rate your overall checkout experience?', 'options': ['Poor', 'Fair', 'Good', 'Very Good', 'Excellent']}, {'type': 'multiple-choice', 'label': 'What was the main reason for your rating?', 'options': ['Slow loading times', 'Difficulty with payment method', 'Unclear or confusing navigation', 'Other (please specify)']}, {'type': 'open-ended', 'label': 'Do you have any suggestions to improve our checkout process?'}, {'type': 'rating', 'label': 'How likely are you to make a repeat purchase from us?', 'options': ['Not at all likely', 'Somewhat unlikely', 'Neutral', 'Somewhat likely', 'Very likely']}], hiddenFields={'channel': 'app|website'}, questions=[SurveyQuestion(id='default_id', type='rating', headline='Overall Experience', subheader=None, required=True, buttonLabel=None, backButtonLabel=None, dismissButtonLabel=None, html=None, charLimit=None, inputType=None, longAnswer=None, placeholder=None, scale=None, range=None, lowerLabel=None, upperLabel=None, shuffleOption=None, choices=None, logic=None, label='How would you rate your overall checkout experience?'), SurveyQuestion(id='default_id', type='multiple-choice', headline='Reason for Rating', subheader=None, required=False, buttonLabel=None, backButtonLabel=None, dismissButtonLabel=None, html=None, charLimit=None, inputType=None, longAnswer=None, placeholder=None, scale=None, range=None, lowerLabel=None, upperLabel=None, shuffleOption=None, choices=None, logic=None, label='What was the main reason for your rating?'), SurveyQuestion(id='default_id', type='open-ended', headline='Suggestions', subheader=None, required=False, buttonLabel=None, backButtonLabel=None, dismissButtonLabel=None, html=None, charLimit=None, inputType=None, longAnswer=None, placeholder=None, scale=None, range=None, lowerLabel=None, upperLabel=None, shuffleOption=None, choices=None, logic=None, label='Do you have any suggestions to improve our checkout process?'), SurveyQuestion(id='default_id', type='rating', headline='Likelihood of Repeat Purchase', subheader=None, required=True, buttonLabel=None, backButtonLabel=None, dismissButtonLabel=None, html=None, charLimit=None, inputType=None, longAnswer=None, placeholder=None, scale=None, range=None, lowerLabel=None, upperLabel=None, shuffleOption=None, choices=None, logic=None, label='How likely are you to make a repeat purchase from us?')]) response\n"
     ]
    },
    {
     "data": {
      "text/plain": [
       "{'query': 'How can we reduce checkout abandonment ? ',\n",
       " 'industry': 'eCommerce',\n",
       " 'role': 'productManager',\n",
       " 'channels': ['app', 'website'],\n",
       " 'name': 'Rate Checkout Experience',\n",
       " 'description': 'Let customers rate the checkout experience to tweak conversion.',\n",
       " 'survey': CartAbandonmentSurvey(name='Rate Checkout Experience', role='productManager', industries=['eCommerce'], channels=['app', 'website'], description='Let customers rate the checkout experience to tweak conversion.', preset=SurveyPreset(name='Checkout Experience Survey', welcomeCard=None, endings=[{'type': 'rating', 'label': 'How would you rate your overall checkout experience?', 'options': ['Poor', 'Fair', 'Good', 'Very Good', 'Excellent']}, {'type': 'multiple-choice', 'label': 'What was the main reason for your rating?', 'options': ['Slow loading times', 'Difficulty with payment method', 'Unclear or confusing navigation', 'Other (please specify)']}, {'type': 'open-ended', 'label': 'Do you have any suggestions to improve our checkout process?'}, {'type': 'rating', 'label': 'How likely are you to make a repeat purchase from us?', 'options': ['Not at all likely', 'Somewhat unlikely', 'Neutral', 'Somewhat likely', 'Very likely']}], hiddenFields={'channel': 'app|website'}, questions=[SurveyQuestion(id='default_id', type='rating', headline='Overall Experience', subheader=None, required=True, buttonLabel=None, backButtonLabel=None, dismissButtonLabel=None, html=None, charLimit=None, inputType=None, longAnswer=None, placeholder=None, scale=None, range=None, lowerLabel=None, upperLabel=None, shuffleOption=None, choices=None, logic=None, label='How would you rate your overall checkout experience?'), SurveyQuestion(id='default_id', type='multiple-choice', headline='Reason for Rating', subheader=None, required=False, buttonLabel=None, backButtonLabel=None, dismissButtonLabel=None, html=None, charLimit=None, inputType=None, longAnswer=None, placeholder=None, scale=None, range=None, lowerLabel=None, upperLabel=None, shuffleOption=None, choices=None, logic=None, label='What was the main reason for your rating?'), SurveyQuestion(id='default_id', type='open-ended', headline='Suggestions', subheader=None, required=False, buttonLabel=None, backButtonLabel=None, dismissButtonLabel=None, html=None, charLimit=None, inputType=None, longAnswer=None, placeholder=None, scale=None, range=None, lowerLabel=None, upperLabel=None, shuffleOption=None, choices=None, logic=None, label='Do you have any suggestions to improve our checkout process?'), SurveyQuestion(id='default_id', type='rating', headline='Likelihood of Repeat Purchase', subheader=None, required=True, buttonLabel=None, backButtonLabel=None, dismissButtonLabel=None, html=None, charLimit=None, inputType=None, longAnswer=None, placeholder=None, scale=None, range=None, lowerLabel=None, upperLabel=None, shuffleOption=None, choices=None, logic=None, label='How likely are you to make a repeat purchase from us?')]))}"
      ]
     },
     "execution_count": 29,
     "metadata": {},
     "output_type": "execute_result"
    }
   ],
   "source": [
    "result  = graph.invoke({\"query\":\"How can we reduce checkout abandonment ? \"})\n",
    "result"
   ]
  }
 ],
 "metadata": {
  "kernelspec": {
   "display_name": "venv",
   "language": "python",
   "name": "python3"
  },
  "language_info": {
   "codemirror_mode": {
    "name": "ipython",
    "version": 3
   },
   "file_extension": ".py",
   "mimetype": "text/x-python",
   "name": "python",
   "nbconvert_exporter": "python",
   "pygments_lexer": "ipython3",
   "version": "3.12.7"
  }
 },
 "nbformat": 4,
 "nbformat_minor": 2
}
